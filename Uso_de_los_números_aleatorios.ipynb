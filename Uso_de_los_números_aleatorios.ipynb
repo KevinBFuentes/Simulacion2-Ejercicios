{
 "cells": [
  {
   "cell_type": "markdown",
   "metadata": {
    "id": "InEC0sPiqQNA"
   },
   "source": [
    "# Uso de los números aleatorios"
   ]
  },
  {
   "cell_type": "markdown",
   "metadata": {
    "id": "scoXFlX1qQNZ"
   },
   "source": [
    "## 1. Introducción al Módulo random"
   ]
  },
  {
   "cell_type": "markdown",
   "metadata": {
    "id": "HGG5dlxuqQNc"
   },
   "source": [
    "El módulo random de la librería estándar de Python incluye un conjunto de funciones que permiten obtener de distintos modos \n",
    "números pseudoaleatorios a través del algoritmo [Mersenne Twister](https://es.wikipedia.org/wiki/Mersenne_twister)."
   ]
  },
  {
   "cell_type": "code",
   "execution_count": 45,
   "metadata": {
    "id": "NJTpjZjOqQNf"
   },
   "outputs": [],
   "source": [
    "#importamos el módulo que vamos a usar \n",
    "\n",
    "import random   "
   ]
  },
  {
   "cell_type": "markdown",
   "metadata": {
    "id": "3OGxoqCKqQNk"
   },
   "source": [
    "Las funciones de los módulos se invocan con el formato: módulo.función().\n",
    "\n",
    "En el módulo random existe la función random, que devuelve un número aleatorio que sigue una distribución uniforme. \n",
    "\n",
    "Así, para obtener $x \\sim U(0,1)$:"
   ]
  },
  {
   "cell_type": "code",
   "execution_count": 2,
   "metadata": {
    "id": "hdQIWjc6qQNm"
   },
   "outputs": [
    {
     "name": "stdout",
     "output_type": "stream",
     "text": [
      "0.4900972762456335\n"
     ]
    }
   ],
   "source": [
    "x = random.random()  #Cada ejecución dará un número distinto.\n",
    "print(x)"
   ]
  },
  {
   "cell_type": "markdown",
   "metadata": {
    "id": "nij1utAJqQNr"
   },
   "source": [
    "Se puede usar algún bucle si se desea generar una secuencia $x_i \\sim U(0,1)$ con $i = 1, 2, 3,..., N$:"
   ]
  },
  {
   "cell_type": "code",
   "execution_count": 3,
   "metadata": {
    "id": "6JV_HXx8qQNu"
   },
   "outputs": [
    {
     "name": "stdout",
     "output_type": "stream",
     "text": [
      "0.5455 0.4654 0.6744 0.0138 0.4271 0.9801 0.7842 0.5949 0.1023 0.1874 \n"
     ]
    }
   ],
   "source": [
    "for i in range(10):\n",
    "    print('%05.4f' % random.random(), end=' ')  #El código en rojo indica la cantidad de dígitos y de decimales a mostrar.\n",
    "print()"
   ]
  },
  {
   "cell_type": "code",
   "execution_count": 4,
   "metadata": {
    "id": "nOwYQcyQqQNx"
   },
   "outputs": [
    {
     "name": "stdout",
     "output_type": "stream",
     "text": [
      "0.9596\n",
      "0.9140\n",
      "0.6267\n",
      "0.1654\n",
      "0.1948\n",
      "0.7250\n",
      "0.3879\n",
      "0.8571\n",
      "0.1949\n",
      "0.0599\n",
      "\n"
     ]
    }
   ],
   "source": [
    "for i in range(10):\n",
    "    print('%05.4f' % random.random(), sep=\"\\t\")\n",
    "print()"
   ]
  },
  {
   "cell_type": "markdown",
   "metadata": {
    "id": "OPG3Aac6qQN0"
   },
   "source": [
    "La función seed() fija el valor de la semilla en la generación de la secuencia de números aleatorios. \n",
    "Esto es útil cuando se quieren utilizar los mismos datos de entrada en una simulación."
   ]
  },
  {
   "cell_type": "code",
   "execution_count": 6,
   "metadata": {
    "id": "opeuSIFFqQN3"
   },
   "outputs": [
    {
     "name": "stdout",
     "output_type": "stream",
     "text": [
      "0.1344 0.8474 0.7638 0.2551 0.4954 0.4495 0.6516 0.7887 0.0939 0.0283 0.8358 0.4328 0.7623 0.0021 0.4454 0.7215 0.2288 0.9453 0.9014 0.0306 \n"
     ]
    }
   ],
   "source": [
    "random.seed(1) #primero fijamos la semilla\n",
    "\n",
    "for i in range(20):\n",
    "    print('%05.4f' % random.random(), end=' ')\n",
    "print()"
   ]
  },
  {
   "cell_type": "markdown",
   "metadata": {
    "id": "-eUKzWy_qQN6"
   },
   "source": [
    "## Ejercicio 1: \n",
    "    a)Usar la función random() para simular 1 volado.\n",
    "    b)Usar la función random() para simular 1000 volados. "
   ]
  },
  {
   "cell_type": "code",
   "execution_count": 22,
   "metadata": {},
   "outputs": [
    {
     "name": "stdout",
     "output_type": "stream",
     "text": [
      "Cruz\n"
     ]
    }
   ],
   "source": [
    "from random import random\n",
    "#a)Usar la función random() para simular 1000 volados\n",
    "if random()<=0.5:\n",
    "    print('Cara')\n",
    "else:\n",
    "    print('Cruz')"
   ]
  },
  {
   "cell_type": "code",
   "execution_count": 23,
   "metadata": {},
   "outputs": [
    {
     "name": "stdout",
     "output_type": "stream",
     "text": [
      "Número de caras obtenidas en 1000 volados: 497\n"
     ]
    }
   ],
   "source": [
    "#b)Usar la función random() para simular 1000 volados.\n",
    "volado=[]\n",
    "for i in range(1000):\n",
    "    if random()<=0.5:\n",
    "        volado.append(1)\n",
    "    else:\n",
    "        continue\n",
    "print('Número de caras obtenidas en 1000 volados:',len(volado))"
   ]
  },
  {
   "cell_type": "markdown",
   "metadata": {
    "id": "SJN9IgAeqQN8"
   },
   "source": [
    "La función uniform() devuelve un número float incluido entre los valores indicados."
   ]
  },
  {
   "cell_type": "code",
   "execution_count": 7,
   "metadata": {
    "id": "0d50cxmfqQN9"
   },
   "outputs": [
    {
     "name": "stdout",
     "output_type": "stream",
     "text": [
      "2.2468 27.5292 47.0183 19.6790 11.6134 21.6837 2.4230 11.8629 22.4565 25.2948 \n"
     ]
    }
   ],
   "source": [
    "for i in range(10):\n",
    "    print('%5.4f' %random.uniform(1, 50), end=' ')\n",
    "print()"
   ]
  },
  {
   "cell_type": "markdown",
   "metadata": {
    "id": "AQl3Dsn8qQN_"
   },
   "source": [
    "La función randint() devuelve un número entero incluido entre los valores indicados. \n",
    "Los valores de los límites inferior y superior también pueden aparecer entre los valores devueltos."
   ]
  },
  {
   "cell_type": "code",
   "execution_count": 8,
   "metadata": {
    "id": "y6dJsrlZqQOA"
   },
   "outputs": [
    {
     "name": "stdout",
     "output_type": "stream",
     "text": [
      "-41 -12 -41 73 -44 94 17 -26 -95 6 42 64 -75 -53 61 85 -25 -70 90 -15 \n"
     ]
    }
   ],
   "source": [
    "for i in range(20):\n",
    "    print(random.randint(-100, 100), end=' ')\n",
    "print()"
   ]
  },
  {
   "cell_type": "markdown",
   "metadata": {
    "id": "V_L91GQ3qQOC"
   },
   "source": [
    "## Ejercicio 2:\n",
    "    a) Simular un sorteo de los colores blanco, negro, rojo, azul y verde.\n",
    "    b) Simular 5 sorteos con sustitución."
   ]
  },
  {
   "cell_type": "code",
   "execution_count": 42,
   "metadata": {},
   "outputs": [
    {
     "name": "stdout",
     "output_type": "stream",
     "text": [
      "Rojo\n"
     ]
    }
   ],
   "source": [
    "#a) Simular un sorteo de los colores blanco, negro, rojo, azul y verde.\n",
    "\n",
    "from random import randint\n",
    "a=randint(1,5)\n",
    "if a==1:\n",
    "    print('Blanco')\n",
    "elif a==2:\n",
    "    print('Negro')\n",
    "elif a==3:\n",
    "    print('Rojo')\n",
    "elif a==4:\n",
    "    print('Azul')\n",
    "elif a==5:\n",
    "    print('Verde')"
   ]
  },
  {
   "cell_type": "code",
   "execution_count": 43,
   "metadata": {},
   "outputs": [
    {
     "name": "stdout",
     "output_type": "stream",
     "text": [
      "Blanco\n",
      "Negro\n",
      "Azul\n",
      "Negro\n",
      "Blanco\n"
     ]
    }
   ],
   "source": [
    "#b) Simular 5 sorteos con sustitución.\n",
    "\n",
    "for i in range(5):\n",
    "    from random import randint\n",
    "    a=randint(1,5)\n",
    "    if a==1:\n",
    "        print('Blanco')\n",
    "    elif a==2:\n",
    "        print('Negro')\n",
    "    elif a==3:\n",
    "        print('Rojo')\n",
    "    elif a==4:\n",
    "        print('Azul')\n",
    "    elif a==5:\n",
    "        print('Verde')"
   ]
  },
  {
   "cell_type": "markdown",
   "metadata": {
    "id": "ZEjpeQoPqQOE"
   },
   "source": [
    "La función randrange() devuelve enteros que van desde un valor inicial a otro final \n",
    "separados entre sí un número de valores determinados."
   ]
  },
  {
   "cell_type": "code",
   "execution_count": 46,
   "metadata": {
    "id": "PFslQTPHqQOG"
   },
   "outputs": [
    {
     "name": "stdout",
     "output_type": "stream",
     "text": [
      "6 18 15 9 3 0 3 12 9 9 6 18 18 6 9 3 18 12 15 6 \n"
     ]
    }
   ],
   "source": [
    "for i in range(20):\n",
    "    print(random.randrange(0, 20, 3), end=' ')\n",
    "print()"
   ]
  },
  {
   "cell_type": "markdown",
   "metadata": {
    "id": "nRhXafMPqQOH"
   },
   "source": [
    "# 2. Estimación del número $\\pi$"
   ]
  },
  {
   "cell_type": "code",
   "execution_count": 48,
   "metadata": {
    "id": "SZUUJIlmqQOK"
   },
   "outputs": [],
   "source": [
    "import matplotlib.pyplot as plt\n",
    "import numpy as np"
   ]
  },
  {
   "cell_type": "code",
   "execution_count": 49,
   "metadata": {
    "id": "93fESqwhqQOL"
   },
   "outputs": [
    {
     "data": {
      "image/png": "[encoded data removed]",
      "text/plain": [
       "<Figure size 576x576 with 1 Axes>"
      ]
     },
     "metadata": {
      "needs_background": "light"
     },
     "output_type": "display_data"
    }
   ],
   "source": [
    "x = np.linspace(0, 1, 100)\n",
    "y = np.sqrt(1 - x**2)               # Ecuación del círculo en el primer cuadrante \n",
    "\n",
    "\n",
    "x_1 = random.random()\n",
    "y_1 = random.random()\n",
    "\n",
    "fig = plt.figure(1, figsize=(8, 8))        # Aquí fijamos el formato de la gráfica para que sea cuadrada.\n",
    "plt.plot(x, y, color=\"red\", markersize=1) \n",
    "plt.scatter(x_1, y_1, s=20, c=\"blue\")\n",
    "plt.title(\"Estimación de $\\pi$\")\n",
    "plt.xlabel(\"X\")\n",
    "plt.ylabel(\"Y\")\n",
    "plt.grid()\n",
    "plt.show()"
   ]
  },
  {
   "cell_type": "markdown",
   "metadata": {
    "id": "5BZOaCvnqQON"
   },
   "source": [
    "# Tarea 1. \n",
    "    Estimar el valor de pi usando la función random"
   ]
  },
  {
   "cell_type": "code",
   "execution_count": 50,
   "metadata": {
    "id": "VNJN1eJrqQOP"
   },
   "outputs": [
    {
     "name": "stdout",
     "output_type": "stream",
     "text": [
      "3.141864\n"
     ]
    }
   ],
   "source": [
    "from random import random\n",
    "import matplotlib.pyplot as plt\n",
    "\n",
    "N=1000000 #Num. de iteraciones\n",
    "n=0 #Dardos que caen dentro del 1/4 de circulo\n",
    "\n",
    "for i in range(1,N+1):\n",
    "    x=random()\n",
    "    y=random()\n",
    "    if (x**2+y**2)<1:\n",
    "        n=n+1\n",
    "I=4*n/N\n",
    "print(I)"
   ]
  },
  {
   "cell_type": "markdown",
   "metadata": {
    "id": "lzndLksLqQOQ"
   },
   "source": [
    "## La aproximación analítica"
   ]
  },
  {
   "cell_type": "markdown",
   "metadata": {
    "id": "AVu-tlY3qQOS"
   },
   "source": [
    "Partamos de la ecuación:\n",
    "\n",
    "##     $\\pi = 4\\arctan 1$\n",
    "\n",
    "y usemos la aproximación de Taylor para expandir en una serie de potencias.\n",
    "\n",
    "Recordar:\n",
    "\n",
    "$f(x) = f(0) + f´(x)x + \\frac{1}{2}f´´(0)x^2 + ...$\n",
    "\n",
    "$Si f(x) = \\arctan x$ entonces:\n",
    "\n",
    "$f´(x) = \\frac{d \\arctan x}{dx} = \\frac{1}{1 + x^2} \\rightarrow f´(0) = 1$\n",
    "\n",
    "$f´´(x) = \\frac{d^2 \\arctan x}{d^2x} = - \\frac{2x}{(1 + x^2)^2} \\rightarrow f´´(0) = 0$\n",
    "\n",
    "...\n",
    "\n",
    "$f^{2i + 1}(x) = (-1)^{i} \\frac{(2i)!}{(1 + x^2)^{2i + 1}} \\rightarrow f^{2i + 1}(0) = (-1)(2i)!$\n",
    "\n",
    "$f^{2i}(x) = 0$\n",
    "\n",
    "Entonces:\n",
    "\n",
    "$\\arctan x = \\sum_{i = 0} (-1)^{i} \\frac{x^{2i + 1}}{2i + 1}$\n",
    "\n",
    "Por tanto:\n",
    "\n",
    "## $\\pi = \\sum_{i = 0} (-1)^{i} \\frac{4}{2i + 1}$"
   ]
  },
  {
   "cell_type": "code",
   "execution_count": null,
   "metadata": {
    "id": "3Tt0bJLyqQOU"
   },
   "outputs": [],
   "source": [
    "def pi_taylor(n):\n",
    "    pi = 0\n",
    "    for i in range(n):\n",
    "        pi = pi + 4.0/(2*i+1)*(-1)**i\n",
    "        print(i, pi)"
   ]
  },
  {
   "cell_type": "code",
   "execution_count": null,
   "metadata": {
    "id": "XpYIv6dfqQOW"
   },
   "outputs": [],
   "source": [
    "pi_taylor(10)"
   ]
  },
  {
   "cell_type": "code",
   "execution_count": null,
   "metadata": {
    "id": "kdV66YI_qQOX"
   },
   "outputs": [],
   "source": [
    "def pi_Taylor(n):\n",
    "    pi = 0\n",
    "    L =[]\n",
    "    for i in range(n):\n",
    "        pi = pi + 4.0/(2*i+1)*(-1)**i\n",
    "        L.append(pi)\n",
    "    fig = plt.figure(1, figsize=(8, 8))        \n",
    "    plt.plot(L, color=\"red\", markersize=1)\n",
    "    plt.xlabel(\"Iteraciones\")\n",
    "    plt.ylabel(\"Estimación\")\n",
    "    plt.grid()\n",
    "    plt.show()"
   ]
  },
  {
   "cell_type": "code",
   "execution_count": null,
   "metadata": {
    "id": "YgoAPSijqQOY"
   },
   "outputs": [],
   "source": [
    "pi_Taylor(200)"
   ]
  },
  {
   "cell_type": "markdown",
   "metadata": {
    "id": "h7UjrOA2qQOa"
   },
   "source": [
    "## Ejercicio 3:\n",
    "\n",
    "Graficar las salidas obtenidas en la Tarea 1"
   ]
  },
  {
   "cell_type": "code",
   "execution_count": 15,
   "metadata": {},
   "outputs": [
    {
     "name": "stdout",
     "output_type": "stream",
     "text": [
      "3.140328 3.141592653589793\n"
     ]
    },
    {
     "data": {
      "image/png": "[encoded data removed]",
      "text/plain": [
       "<Figure size 432x288 with 1 Axes>"
      ]
     },
     "metadata": {
      "needs_background": "light"
     },
     "output_type": "display_data"
    }
   ],
   "source": [
    "from random import random\n",
    "from math import pi\n",
    "import matplotlib.pyplot as plt\n",
    "N=1000000 #Num. de iteraciones\n",
    "n=0 #Dardos que caen dentro del 1/4 de circulo\n",
    "lx=[]\n",
    "ly=[]\n",
    "for i in range(1,N+1):\n",
    "    x=random()\n",
    "    y=random()\n",
    "    if (x**2+y**2)<1:\n",
    "        n=n+1\n",
    "    if (i%1000)==0: #Cada mil repeticiones va graficando\n",
    "        lx.append(i)\n",
    "        ly.append(4*n/i)\n",
    "I=4*n/N\n",
    "print(I,pi)\n",
    "plt.plot(lx,ly)\n",
    "plt.show()"
   ]
  },
  {
   "cell_type": "markdown",
   "metadata": {
    "id": "2m4UuFJMqQOb"
   },
   "source": [
    "## Continuamos"
   ]
  },
  {
   "cell_type": "code",
   "execution_count": 52,
   "metadata": {
    "id": "II2WZbfnqQOc"
   },
   "outputs": [
    {
     "data": {
      "image/png": "[encoded data removed]",
      "text/plain": [
       "<Figure size 576x576 with 1 Axes>"
      ]
     },
     "metadata": {
      "needs_background": "light"
     },
     "output_type": "display_data"
    }
   ],
   "source": [
    "import random\n",
    "import numpy as np\n",
    "x = np.linspace(0, 1, 100)\n",
    "y = np.sqrt(1 - x**2)               # Ecuación del círculo en el primer cuadrante \n",
    "\n",
    "\n",
    "x_1 = random.random()\n",
    "y_1 = random.random()\n",
    "\n",
    "fig = plt.figure(1, figsize=(8, 8))        # Aquí fijamos el formato de la gráfica para que sea cuadrada.\n",
    "plt.plot(x, y, color=\"red\", markersize=1) \n",
    "plt.scatter(x_1, y_1, s=20, c=\"blue\")\n",
    "plt.title(\"Estimación de $\\pi$\")\n",
    "plt.xlabel(\"X\")\n",
    "plt.ylabel(\"Y\")\n",
    "plt.grid()\n",
    "plt.show()"
   ]
  },
  {
   "cell_type": "code",
   "execution_count": 53,
   "metadata": {
    "id": "adcuuFFWqQOd"
   },
   "outputs": [],
   "source": [
    "def pi_mc(n):\n",
    "    pi = 0\n",
    "    counter = 0\n",
    "    for i in range(n):\n",
    "        x = random.random()\n",
    "        y = random.random()\n",
    "        if x**2 + y**2 <1:\n",
    "            counter = counter + 1\n",
    "        pi = 4.0*float(counter)/(i + 1)\n",
    "        print(i, pi)"
   ]
  },
  {
   "cell_type": "code",
   "execution_count": 54,
   "metadata": {
    "id": "dhQdpv76qQOe"
   },
   "outputs": [
    {
     "name": "stdout",
     "output_type": "stream",
     "text": [
      "0 4.0\n",
      "1 4.0\n",
      "2 4.0\n",
      "3 4.0\n",
      "4 4.0\n",
      "5 3.3333333333333335\n",
      "6 3.4285714285714284\n",
      "7 3.5\n",
      "8 3.5555555555555554\n",
      "9 3.2\n"
     ]
    }
   ],
   "source": [
    "pi_mc(10)"
   ]
  },
  {
   "cell_type": "code",
   "execution_count": 55,
   "metadata": {
    "id": "mQFRAixgqQOf"
   },
   "outputs": [],
   "source": [
    "def pi_mc(n):\n",
    "    pi = 0\n",
    "    lx = []\n",
    "    ly = []\n",
    "    counter = 0\n",
    "    for i in range(n):\n",
    "        x = random.random()\n",
    "        y = random.random()\n",
    "        if x**2 + y**2 <1:\n",
    "            counter = counter + 1\n",
    "            lx.append(counter)\n",
    "            ly.append(4.0*float(counter)/(i + 1))\n",
    "        \n",
    "        pi = 4.0*float(counter)/(i + 1)\n",
    "        \n",
    "        e = np.absolute((pi - np.pi)/np.pi)\n",
    "    print(\"pi =\", pi)\n",
    "    print(\"error =\", e)\n",
    "    \n",
    "    fig = plt.figure(1, figsize=(8, 8))        \n",
    "    plt.xlabel(\"Iteraciones\")\n",
    "    plt.ylabel(\"Estimación de $\\pi$\")\n",
    "    plt.grid()\n",
    "    plt.plot(lx, ly, color=\"blue\", markersize=1)\n",
    "    plt.show()"
   ]
  },
  {
   "cell_type": "code",
   "execution_count": 56,
   "metadata": {
    "id": "9DQLNbe4qQOh"
   },
   "outputs": [
    {
     "name": "stdout",
     "output_type": "stream",
     "text": [
      "pi = 3.116\n",
      "error = 0.008146394651308196\n"
     ]
    },
    {
     "data": {
      "image/png": "[encoded data removed]",
      "text/plain": [
       "<Figure size 576x576 with 1 Axes>"
      ]
     },
     "metadata": {
      "needs_background": "light"
     },
     "output_type": "display_data"
    }
   ],
   "source": [
    "pi_mc(1000)"
   ]
  },
  {
   "cell_type": "markdown",
   "metadata": {
    "id": "sID_JAB7qQOi"
   },
   "source": [
    "Si se tiene, para cada punto aleatorio:\n",
    "    \n",
    "$X_i = 1$ si cae dentro del circulo y\n",
    "\n",
    "$X_i = 0$ si cae fuera"
   ]
  },
  {
   "cell_type": "markdown",
   "metadata": {
    "id": "ShpN3ZuJqQOj"
   },
   "source": [
    "## Ejercicio 4:\n",
    "\n",
    "a) Calcular $E[X_i]$ y $V[X_i]$\n",
    "\n",
    "\n"
   ]
  },
  {
   "cell_type": "markdown",
   "metadata": {
    "id": "I4UaSZ7MqQOj"
   },
   "source": [
    "Para el experimento de simulación, definimos $Z_N = \\frac{X_1 + X_2 + ... + X_N}{N}$"
   ]
  },
  {
   "cell_type": "code",
   "execution_count": 7,
   "metadata": {},
   "outputs": [
    {
     "name": "stdout",
     "output_type": "stream",
     "text": [
      "La esperanza de X es: 0.7846 y la varianza 0.16900453004530047\n"
     ]
    }
   ],
   "source": [
    "from random import random\n",
    "from statistics import mean, variance\n",
    "import matplotlib.pyplot as plt\n",
    "\n",
    "N=100000 #Num. de iteraciones\n",
    "n=0 #Dardos que caen dentro del 1/4 de circulo\n",
    "X=[]\n",
    "for i in range(1,N+1):\n",
    "    x=random()\n",
    "    y=random()\n",
    "    if (x**2+y**2)<1:\n",
    "        X.append(1)\n",
    "    else:\n",
    "        X.append(0)\n",
    "esp=mean(X)\n",
    "var=variance(X)\n",
    "print(f'La esperanza de X es: {esp} y la varianza {var}')"
   ]
  },
  {
   "cell_type": "markdown",
   "metadata": {
    "id": "0U-LPCJlqQOk"
   },
   "source": [
    "## Ejercicio 5:\n",
    "a) Calcular  $E[Z_N]$ y $V[Z_N]$\n",
    "b) ¿Cuál debe ser el valor de $N$ para que el error sea de 0.01?"
   ]
  },
  {
   "cell_type": "code",
   "execution_count": 8,
   "metadata": {},
   "outputs": [
    {
     "name": "stdout",
     "output_type": "stream",
     "text": [
      "La esperanza de X es: 0.7909066918389905 y la varianza 0.00014387855507504258\n",
      "Se tienen que lanzar más de 270404.544 dardos\n"
     ]
    }
   ],
   "source": [
    "from random import random\n",
    "from statistics import mean, variance\n",
    "\n",
    "N=100 #Num. de iteraciones\n",
    "n=0 #Dardos que caen dentro del 1/4 de circulo\n",
    "X=[]\n",
    "Z=[]\n",
    "for j in range(1,N):\n",
    "    for i in range(1,N+1):\n",
    "        x=random()\n",
    "        y=random()\n",
    "        if (x**2+y**2)<1:\n",
    "            X.append(1)\n",
    "        else:\n",
    "            X.append(0)\n",
    "    Z.append(mean(X))\n",
    "    \n",
    "esp1=mean(Z)   \n",
    "var1=variance(Z)\n",
    "print(f'La esperanza de X es: {esp1} y la varianza {var1}')\n",
    "N0=16*esp*(1-esp)\n",
    "print(f'Se tienen que lanzar más de {N0/0.00001} dardos')"
   ]
  },
  {
   "cell_type": "markdown",
   "metadata": {
    "id": "z1tQEXwDqQOl"
   },
   "source": [
    "# Integrales"
   ]
  },
  {
   "cell_type": "code",
   "execution_count": 12,
   "metadata": {
    "id": "dHbX31LvqQOl"
   },
   "outputs": [],
   "source": [
    "import numpy as np\n",
    "def riemannplot(f, a, b, ra, rb, n):\n",
    "    # f es la función \n",
    "    # a y b son los limites del eje x para graficar la funcion f\n",
    "    # ra y rb son los limites del intervalo en el eje x del que queremos calcular la suma\n",
    "    # n es el numero de rectangulos que calcularemos\n",
    "\n",
    "    atenuacion = (b-a)/100\n",
    "    x = np.arange(a, b+atenuacion, atenuacion)\n",
    "    \n",
    "    plt.plot(x, f(x), color='red')\n",
    "\n",
    "    delta_x = (rb-ra)/n\n",
    "    riemannx = np.arange(ra, rb, delta_x)\n",
    "    riemanny = f(riemannx)\n",
    "    riemann_sum = sum(riemanny*delta_x)\n",
    "\n",
    "    plt.bar(riemannx,riemanny,width=delta_x,alpha=0.5,edgecolor = 'black',facecolor='green')\n",
    "   \n",
    "    plt.xlabel('x')\n",
    "    plt.ylabel('f(x)')\n",
    "    \n",
    "    plt.title('Suma de Riemann por la izquierda de f(x)')\n",
    "    plt.figtext(0.1,-0.05, \"Suma de Riemann: %.5f \" %(riemann_sum), color='b')\n",
    "    plt.savefig('riemann.png')\n",
    "    plt.show()"
   ]
  },
  {
   "cell_type": "code",
   "execution_count": 13,
   "metadata": {
    "id": "mBHEBmC4qQOn"
   },
   "outputs": [],
   "source": [
    "def f(x):\n",
    "    return np.sqrt(np.arctan(x))"
   ]
  },
  {
   "cell_type": "code",
   "execution_count": 14,
   "metadata": {
    "id": "hTRUNje-qQOo"
   },
   "outputs": [
    {
     "data": {
      "image/png": "[encoded data removed]",
      "text/plain": [
       "<Figure size 432x288 with 1 Axes>"
      ]
     },
     "metadata": {
      "needs_background": "light"
     },
     "output_type": "display_data"
    }
   ],
   "source": [
    "riemannplot(f, 0, 1.001, 0, 1.001, 20)"
   ]
  },
  {
   "cell_type": "code",
   "execution_count": null,
   "metadata": {
    "id": "vDcznbqmqQOo"
   },
   "outputs": [],
   "source": []
  }
 ],
 "metadata": {
  "colab": {
   "name": "Uso de los números aleatorios.ipynb",
   "provenance": []
  },
  "kernelspec": {
   "display_name": "Python 3",
   "language": "python",
   "name": "python3"
  },
  "language_info": {
   "codemirror_mode": {
    "name": "ipython",
    "version": 3
   },
   "file_extension": ".py",
   "mimetype": "text/x-python",
   "name": "python",
   "nbconvert_exporter": "python",
   "pygments_lexer": "ipython3",
   "version": "3.9.2"
  }
 },
 "nbformat": 4,
 "nbformat_minor": 4
}
